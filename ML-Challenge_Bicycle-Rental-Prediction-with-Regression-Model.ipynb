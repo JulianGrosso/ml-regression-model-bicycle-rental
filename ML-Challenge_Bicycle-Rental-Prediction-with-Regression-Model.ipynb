{
  "cells": [
    {
      "attachments": {},
      "cell_type": "markdown",
      "metadata": {
        "id": "xXMDP7Mo-Z6t"
      },
      "source": [
        "# **Modelos de Regresion**\n",
        "\n",
        "**MS Learn Challenge**\n",
        "\n",
        "Problema: Una empresa que alquila bicicletas quiere predecir el número esperado de alquileres en un día determinado en el futuro.\n"
      ]
    },
    {
      "cell_type": "markdown",
      "metadata": {
        "id": "jwdyLzctRqFM"
      },
      "source": [
        "### Información del dataset\n",
        "\n",
        "Columnas:\n",
        "- **instant**: Identificador único de fila\n",
        "- **dteday**: La fecha en la que se observaron los datos - en este caso, los datos se recogieron diariamente; por lo que hay una fila por fecha.\n",
        "- **season**: Un valor codificado numéricamente que indica la estación (1:invierno, 2:primavera, 3:verano, 4:otoño)\n",
        "- **yr**: El año del estudio en el que se realizó la observación (el estudio tuvo lugar a lo largo de dos años: el año 0 representa 2011, y el año 1 representa 2012)\n",
        "- **mnth**: El mes natural en el que se realizó la observación (1:enero ... 12:diciembre)\n",
        "- **holiday**: Valor binario que indica si la observación se realizó o no en un día festivo)\n",
        "- **weekday**: El día de la semana en que se realizó la observación (0:domingo ... 6:sábado)\n",
        "- **workingday**: Valor binario que indica si el día es laborable (no de fin de semana ni festivo)\n",
        "- **weathersit**: Un valor categórico que indica la situación meteorológica (1:despejado, 2:niebla/nubes, 3:lluvia ligera/nieve, 4:lluvia fuerte/granizo/nieve/niebla)\n",
        "- **temp**: La temperatura en grados centígrados (normalizada)\n",
        "- **atemp**: La temperatura aparente en grados centígrados (normalizada).\n",
        "- **hum**: El nivel de humedad (normalizado)\n",
        "- **windspeed**: La velocidad del viento (normalizada)\n",
        "- **rentals**: El número de alquileres de bicicletas registrados.\n",
        "\n",
        "En este conjunto de datos, **rentals** representa la **etiqueta** (el valor y) que nuestro modelo debe ser entrenado para predecir. Las otras columnas son características potenciales (valores X).\n",
        "\n",
        "Como se mencionó anteriormente, puede realizar alguna ingeniería de características para combinar o derivar nuevas características. Por ejemplo, vamos a agregar una nueva columna denominada day al marco de datos extrayendo el componente day de la columna dteday existente. La nueva columna representa el día del mes del 1 al 31."
      ]
    },
    {
      "cell_type": "markdown",
      "metadata": {
        "id": "a8UmjSqg0HwK"
      },
      "source": [
        "# 0 - Instalar y Preparar el Notebook\n",
        "---"
      ]
    },
    {
      "cell_type": "markdown",
      "metadata": {
        "id": "ODs3dGT1y3hZ"
      },
      "source": [
        "## Importar e instalar módulos"
      ]
    },
    {
      "cell_type": "code",
      "execution_count": 1,
      "metadata": {
        "id": "i4Dhi4hSvYTX"
      },
      "outputs": [],
      "source": [
        "import pandas as pd\n",
        "import numpy as np\n",
        "import matplotlib.pyplot as plt\n",
        "%matplotlib inline\n",
        "import joblib\n",
        "from sklearn.linear_model import LinearRegression\n",
        "from sklearn.metrics import mean_squared_error, r2_score, make_scorer\n",
        "from sklearn.model_selection import train_test_split, GridSearchCV\n",
        "from sklearn.ensemble import GradientBoostingRegressor, RandomForestRegressor\n",
        "from sklearn.compose import ColumnTransformer\n",
        "from sklearn.pipeline import Pipeline\n",
        "from sklearn.impute import SimpleImputer\n",
        "from sklearn.preprocessing import StandardScaler, OneHotEncoder"
      ]
    },
    {
      "cell_type": "markdown",
      "metadata": {
        "id": "-Mtu1YeOEJmv"
      },
      "source": [
        "## Importar y procesar dataset de entrenamiento"
      ]
    },
    {
      "cell_type": "code",
      "execution_count": 2,
      "metadata": {
        "colab": {
          "base_uri": "https://localhost:8080/"
        },
        "id": "ZAAgTjQTEJm3",
        "outputId": "c1f004d7-e451-4301-884d-6846dfa102ba"
      },
      "outputs": [
        {
          "name": "stdout",
          "output_type": "stream",
          "text": [
            "--2023-02-11 21:40:33--  https://raw.githubusercontent.com/MicrosoftDocs/mslearn-introduction-to-machine-learning/main/Data/ml-basics/daily-bike-share.csv\n",
            "Resolving raw.githubusercontent.com (raw.githubusercontent.com)... 185.199.108.133, 185.199.109.133, 185.199.110.133, ...\n",
            "Connecting to raw.githubusercontent.com (raw.githubusercontent.com)|185.199.108.133|:443... connected.\n",
            "HTTP request sent, awaiting response... 200 OK\n",
            "Length: 48800 (48K) [text/plain]\n",
            "Saving to: ‘daily-bike-share.csv.1’\n",
            "\n",
            "daily-bike-share.cs 100%[===================>]  47.66K  --.-KB/s    in 0.007s  \n",
            "\n",
            "2023-02-11 21:40:33 (6.59 MB/s) - ‘daily-bike-share.csv.1’ saved [48800/48800]\n",
            "\n",
            "   instant    dteday  season  yr  mnth  holiday  weekday  workingday  \\\n",
            "0        1  1/1/2011       1   0     1        0        6           0   \n",
            "1        2  1/2/2011       1   0     1        0        0           0   \n",
            "2        3  1/3/2011       1   0     1        0        1           1   \n",
            "3        4  1/4/2011       1   0     1        0        2           1   \n",
            "4        5  1/5/2011       1   0     1        0        3           1   \n",
            "\n",
            "   weathersit      temp     atemp       hum  windspeed  rentals  day  \n",
            "0           2  0.344167  0.363625  0.805833   0.160446      331    1  \n",
            "1           2  0.363478  0.353739  0.696087   0.248539      131    2  \n",
            "2           1  0.196364  0.189405  0.437273   0.248309      120    3  \n",
            "3           1  0.200000  0.212122  0.590435   0.160296      108    4  \n",
            "4           1  0.226957  0.229270  0.436957   0.186900       82    5  \n"
          ]
        }
      ],
      "source": [
        "!wget https://raw.githubusercontent.com/MicrosoftDocs/mslearn-introduction-to-machine-learning/main/Data/ml-basics/daily-bike-share.csv\n",
        "\n",
        "bike_data = pd.read_csv('daily-bike-share.csv')\n",
        "bike_data['day'] = pd.DatetimeIndex(bike_data['dteday']).day\n",
        "numeric_features = ['temp', 'atemp', 'hum', 'windspeed']\n",
        "categorical_features = ['season','mnth','holiday','weekday','workingday','weathersit', 'day']\n",
        "bike_data[numeric_features + ['rentals']].describe()\n",
        "print(bike_data.head())"
      ]
    },
    {
      "cell_type": "code",
      "execution_count": 3,
      "metadata": {
        "colab": {
          "base_uri": "https://localhost:8080/"
        },
        "id": "SP_4sEMGYuxQ",
        "outputId": "961a4be4-8903-4d93-9e30-a68e9be6ba44"
      },
      "outputs": [
        {
          "name": "stdout",
          "output_type": "stream",
          "text": [
            "Training Set: 511 rows\n",
            "Test Set: 220 rows\n"
          ]
        }
      ],
      "source": [
        "# Separar características y etiquetas\n",
        "# Después de separar el conjunto de datos, ahora tenemos matrices numpy llamadas **X** que contienen las features, y **y** que contienen las labels.\n",
        "X, y = bike_data[['season','mnth', 'holiday','weekday','workingday','weathersit','temp', 'atemp', 'hum', 'windspeed']].values, bike_data['rentals'].values\n",
        "\n",
        "# Dividir los datos 70%-30% en un dataset de entrenamiento y un dataset de prueba.\n",
        "X_train, X_test, y_train, y_test = train_test_split(X, y, test_size=0.30, random_state=0)\n",
        "\n",
        "print('Training Set: %d rows\\nTest Set: %d rows' % (X_train.shape[0], X_test.shape[0]))"
      ]
    },
    {
      "cell_type": "markdown",
      "metadata": {
        "id": "ly0RyVfhzGq4"
      },
      "source": [
        "# 1 - Entrenamiento del Modelo sin Preprocesamiento de Datos\n",
        "---"
      ]
    },
    {
      "cell_type": "code",
      "execution_count": 4,
      "metadata": {
        "colab": {
          "base_uri": "https://localhost:8080/",
          "height": 382
        },
        "id": "JtPCf3aVwHhB",
        "outputId": "74d72d46-1ce1-45b3-99ee-aa4c34ecbe7f"
      },
      "outputs": [
        {
          "name": "stdout",
          "output_type": "stream",
          "text": [
            "GradientBoostingRegressor() \n",
            "\n",
            "MSE: 103604.97950549854\n",
            "RMSE: 321.8772739810913\n",
            "R2: 0.7968889403053827\n"
          ]
        },
        {
          "data": {
            "image/png": "[encoded data removed]",
            "text/plain": [
              "<Figure size 432x288 with 1 Axes>"
            ]
          },
          "metadata": {
            "needs_background": "light"
          },
          "output_type": "display_data"
        }
      ],
      "source": [
        "# Ajustar un modelo lasso al conjunto de entrenamiento\n",
        "model = GradientBoostingRegressor().fit(X_train, y_train)\n",
        "print (model, \"\\n\")\n",
        "\n",
        "# Evaluar el modelo utilizando los datos de prueba\n",
        "predictions = model.predict(X_test)\n",
        "mse = mean_squared_error(y_test, predictions)\n",
        "print(\"MSE:\", mse)\n",
        "rmse = np.sqrt(mse)\n",
        "print(\"RMSE:\", rmse)\n",
        "r2 = r2_score(y_test, predictions)\n",
        "print(\"R2:\", r2)\n",
        "\n",
        "# Gráfico predicción vs real\n",
        "plt.scatter(y_test, predictions)\n",
        "plt.xlabel('Actual Labels')\n",
        "plt.ylabel('Predicted Labels')\n",
        "plt.title('Daily Bike Share Predictions')\n",
        "# Superponer la línea de regresión\n",
        "z = np.polyfit(y_test, predictions, 1)\n",
        "p = np.poly1d(z)\n",
        "plt.plot(y_test,p(y_test), color='magenta')\n",
        "plt.show()"
      ]
    },
    {
      "cell_type": "markdown",
      "metadata": {
        "id": "ztoXmtXra3Z3"
      },
      "source": [
        "##### Exportar modelo con joblib"
      ]
    },
    {
      "cell_type": "code",
      "execution_count": 5,
      "metadata": {
        "colab": {
          "base_uri": "https://localhost:8080/"
        },
        "id": "gPKAYezja3Z-",
        "outputId": "74ec7db8-e923-4f68-8509-8c7132471110"
      },
      "outputs": [
        {
          "data": {
            "text/plain": [
              "['./bike-share-v1.pkl']"
            ]
          },
          "execution_count": 5,
          "metadata": {},
          "output_type": "execute_result"
        }
      ],
      "source": [
        "# Guardar modelo como archivo \".pkl\"\n",
        "filename = './bike-share-v1.pkl'\n",
        "joblib.dump(model, filename)"
      ]
    },
    {
      "cell_type": "markdown",
      "metadata": {
        "id": "9r_05WYRH2TC"
      },
      "source": [
        "### Optimización de hiperparámetros"
      ]
    },
    {
      "cell_type": "code",
      "execution_count": 6,
      "metadata": {
        "colab": {
          "base_uri": "https://localhost:8080/",
          "height": 417
        },
        "id": "MUuB3YXtG3zs",
        "outputId": "995560b9-cf32-4621-fae4-8fffa9557404"
      },
      "outputs": [
        {
          "name": "stdout",
          "output_type": "stream",
          "text": [
            "Best parameter combination: {'learning_rate': 0.1, 'n_estimators': 100} \n",
            "\n",
            "GradientBoostingRegressor() \n",
            "\n",
            "MSE: 103912.16771704148\n",
            "RMSE: 322.3541029939614\n",
            "R2: 0.7962867170969039\n"
          ]
        },
        {
          "data": {
            "image/png": "[encoded data removed]",
            "text/plain": [
              "<Figure size 432x288 with 1 Axes>"
            ]
          },
          "metadata": {
            "needs_background": "light"
          },
          "output_type": "display_data"
        }
      ],
      "source": [
        "# Utilizar el algoritmo Gradient Boosting\n",
        "alg = GradientBoostingRegressor()\n",
        "\n",
        "params = {\n",
        " 'learning_rate': [0.1, 0.5, 1.0],\n",
        " 'n_estimators' : [50, 100, 150]\n",
        " }\n",
        "\n",
        "# Encontrar la mejor combinación de hiperparámetros para optimizar la métrica R2\n",
        "score = make_scorer(r2_score)\n",
        "gridsearch = GridSearchCV(alg, params, scoring=score, cv=3, return_train_score=True)\n",
        "gridsearch.fit(X_train, y_train)\n",
        "print(\"Best parameter combination:\", gridsearch.best_params_, \"\\n\")\n",
        "\n",
        "# Obtener el mejor modelo\n",
        "model=gridsearch.best_estimator_\n",
        "print(model, \"\\n\")\n",
        "\n",
        "# Evaluar el modelo con los datos de prueba\n",
        "predictions = model.predict(X_test)\n",
        "mse = mean_squared_error(y_test, predictions)\n",
        "print(\"MSE:\", mse)\n",
        "rmse = np.sqrt(mse)\n",
        "print(\"RMSE:\", rmse)\n",
        "r2 = r2_score(y_test, predictions)\n",
        "print(\"R2:\", r2)\n",
        "\n",
        "# Gráfico predicción vs real\n",
        "plt.scatter(y_test, predictions)\n",
        "plt.xlabel('Actual Labels')\n",
        "plt.ylabel('Predicted Labels')\n",
        "plt.title('Daily Bike Share Predictions')\n",
        "# Superponer la línea de regresión\n",
        "z = np.polyfit(y_test, predictions, 1)\n",
        "p = np.poly1d(z)\n",
        "plt.plot(y_test,p(y_test), color='magenta')\n",
        "plt.show()"
      ]
    },
    {
      "cell_type": "markdown",
      "metadata": {
        "id": "UVGsCp_ka7GD"
      },
      "source": [
        "##### Exportar modelo con joblib"
      ]
    },
    {
      "cell_type": "code",
      "execution_count": 7,
      "metadata": {
        "colab": {
          "base_uri": "https://localhost:8080/"
        },
        "id": "UARAKwJna7GE",
        "outputId": "baed53b5-d0c6-4c62-fd66-6306d3e7b247"
      },
      "outputs": [
        {
          "data": {
            "text/plain": [
              "['./bike-share-v2.pkl']"
            ]
          },
          "execution_count": 7,
          "metadata": {},
          "output_type": "execute_result"
        }
      ],
      "source": [
        "# Guardar modelo como archivo \".pkl\"\n",
        "filename = './bike-share-v2.pkl'\n",
        "joblib.dump(model, filename)"
      ]
    },
    {
      "cell_type": "markdown",
      "metadata": {
        "id": "9DfYWraeJxVL"
      },
      "source": [
        "# 2 - Entrenamiento del Modelo con Preprocesamiento de Datos\n",
        "---"
      ]
    },
    {
      "cell_type": "markdown",
      "metadata": {
        "id": "rVTkRiIkJ9D-"
      },
      "source": [
        "### - Preprocesamiento de los datos usando Pipeline"
      ]
    },
    {
      "cell_type": "code",
      "execution_count": 8,
      "metadata": {
        "id": "WKXDy2deJziv"
      },
      "outputs": [],
      "source": [
        "# Definir preprocesamiento para columnas numéricas (escalarlas)\n",
        "numeric_features = [6,7,8,9]\n",
        "numeric_transformer = Pipeline(steps=[\n",
        "    ('scaler', StandardScaler())])\n",
        "\n",
        "# Definir el preprocesamiento de las características categóricas (codificarlas)\n",
        "categorical_features = [0,1,2,3,4,5]\n",
        "categorical_transformer = Pipeline(steps=[\n",
        "    ('onehot', OneHotEncoder(handle_unknown='ignore'))])\n",
        "\n",
        "# Combinar los pasos del preprocesamiento\n",
        "preprocessor = ColumnTransformer(\n",
        "    transformers=[\n",
        "        ('num', numeric_transformer, numeric_features),\n",
        "        ('cat', categorical_transformer, categorical_features)])"
      ]
    },
    {
      "cell_type": "markdown",
      "metadata": {
        "id": "pyNMDY_QWzAt"
      },
      "source": [
        "### - Opción 01: Creamos un pipeline de procesamiento y entrenamiento usando GradientBoostingRegressor"
      ]
    },
    {
      "cell_type": "code",
      "execution_count": 9,
      "metadata": {
        "colab": {
          "base_uri": "https://localhost:8080/",
          "height": 521
        },
        "id": "LKm5uqoiLzOx",
        "outputId": "6df0b1d0-5046-47a1-917d-6273b69c86f3"
      },
      "outputs": [
        {
          "name": "stdout",
          "output_type": "stream",
          "text": [
            "Pipeline(steps=[('preprocessor',\n",
            "                 ColumnTransformer(transformers=[('num',\n",
            "                                                  Pipeline(steps=[('scaler',\n",
            "                                                                   StandardScaler())]),\n",
            "                                                  [6, 7, 8, 9]),\n",
            "                                                 ('cat',\n",
            "                                                  Pipeline(steps=[('onehot',\n",
            "                                                                   OneHotEncoder(handle_unknown='ignore'))]),\n",
            "                                                  [0, 1, 2, 3, 4, 5])])),\n",
            "                ('regressor', GradientBoostingRegressor())])\n",
            "MSE: 105307.42686857721\n",
            "RMSE: 324.5110581607\n",
            "R2: 0.7935513991018649\n"
          ]
        },
        {
          "data": {
            "image/png": "[encoded data removed]",
            "text/plain": [
              "<Figure size 432x288 with 1 Axes>"
            ]
          },
          "metadata": {
            "needs_background": "light"
          },
          "output_type": "display_data"
        }
      ],
      "source": [
        "# Crear un pipeline de procesamiento y entrenamiento usando GradientBoostingRegressor\n",
        "pipeline = Pipeline(steps=[('preprocessor', preprocessor),\n",
        "                           ('regressor', GradientBoostingRegressor())])\n",
        "\n",
        "\n",
        "# Ajustar el pipeline para entrenar el modelo de regresión lineal con el data set de entrenamiento\n",
        "model = pipeline.fit(X_train, (y_train))\n",
        "print(model)\n",
        "\n",
        "# Obtener predicciones\n",
        "predictions = model.predict(X_test)\n",
        "\n",
        "# Visualizar métricas\n",
        "mse = mean_squared_error(y_test, predictions)\n",
        "print(\"MSE:\", mse)\n",
        "rmse = np.sqrt(mse)\n",
        "print(\"RMSE:\", rmse)\n",
        "r2 = r2_score(y_test, predictions)\n",
        "print(\"R2:\", r2)\n",
        "\n",
        "# Gráfico predicción vs real\n",
        "plt.scatter(y_test, predictions)\n",
        "plt.xlabel('Actual Labels')\n",
        "plt.ylabel('Predicted Labels')\n",
        "plt.title('Daily Bike Share Predictions')\n",
        "z = np.polyfit(y_test, predictions, 1)\n",
        "p = np.poly1d(z)\n",
        "plt.plot(y_test,p(y_test), color='magenta')\n",
        "plt.show()"
      ]
    },
    {
      "cell_type": "markdown",
      "metadata": {
        "id": "4f9GMRVmXXEY"
      },
      "source": [
        "##### Exportar modelo con joblib"
      ]
    },
    {
      "cell_type": "code",
      "execution_count": 10,
      "metadata": {
        "colab": {
          "base_uri": "https://localhost:8080/"
        },
        "id": "Wlh1jWAqXXEZ",
        "outputId": "828223c2-20ed-46a9-8d3a-0589929c60b7"
      },
      "outputs": [
        {
          "data": {
            "text/plain": [
              "['./bike-share-v3.pkl']"
            ]
          },
          "execution_count": 10,
          "metadata": {},
          "output_type": "execute_result"
        }
      ],
      "source": [
        "# Guardar modelo como archivo \".pkl\"\n",
        "filename = './bike-share-v3.pkl'\n",
        "joblib.dump(model, filename)"
      ]
    },
    {
      "cell_type": "markdown",
      "metadata": {
        "id": "SyyxobU1VU97"
      },
      "source": [
        "### - Opción 02: Creamos un pipeline de procesamiento y entrenamiento usando RandomForestRegressor"
      ]
    },
    {
      "cell_type": "code",
      "execution_count": 66,
      "metadata": {
        "colab": {
          "base_uri": "https://localhost:8080/",
          "height": 538
        },
        "id": "DZOqkeQ2L48P",
        "outputId": "6718addb-c041-4d60-e0c4-e0b802e6ce8c"
      },
      "outputs": [
        {
          "name": "stdout",
          "output_type": "stream",
          "text": [
            "Pipeline(steps=[('preprocessor',\n",
            "                 ColumnTransformer(transformers=[('num',\n",
            "                                                  Pipeline(steps=[('scaler',\n",
            "                                                                   StandardScaler())]),\n",
            "                                                  [6, 7, 8, 9]),\n",
            "                                                 ('cat',\n",
            "                                                  Pipeline(steps=[('onehot',\n",
            "                                                                   OneHotEncoder(handle_unknown='ignore'))]),\n",
            "                                                  [0, 1, 2, 3, 4, 5])])),\n",
            "                ('regressor', RandomForestRegressor())]) \n",
            "\n",
            "MSE: 104435.85688818182\n",
            "RMSE: 323.16537080600364\n",
            "R2: 0.7952600573455233\n"
          ]
        },
        {
          "data": {
            "image/png": "[encoded data removed]",
            "text/plain": [
              "<Figure size 432x288 with 1 Axes>"
            ]
          },
          "metadata": {
            "needs_background": "light"
          },
          "output_type": "display_data"
        }
      ],
      "source": [
        "# Use a different estimator in the pipeline (RandomForestRegressor)\n",
        "pipeline = Pipeline(steps=[('preprocessor', preprocessor),\n",
        "                           ('regressor', RandomForestRegressor())])\n",
        "\n",
        "\n",
        "# fit the pipeline to train a linear regression model on the training set\n",
        "model = pipeline.fit(X_train, (y_train))\n",
        "print(model, \"\\n\")\n",
        "\n",
        "# Get predictions\n",
        "predictions = model.predict(X_test)\n",
        "\n",
        "# Display metrics\n",
        "mse = mean_squared_error(y_test, predictions)\n",
        "print(\"MSE:\", mse)\n",
        "rmse = np.sqrt(mse)\n",
        "print(\"RMSE:\", rmse)\n",
        "r2 = r2_score(y_test, predictions)\n",
        "print(\"R2:\", r2)\n",
        "\n",
        "# Gráfico predicción vs real\n",
        "plt.scatter(y_test, predictions)\n",
        "plt.xlabel('Actual Labels')\n",
        "plt.ylabel('Predicted Labels')\n",
        "plt.title('Daily Bike Share Predictions - Preprocessed')\n",
        "z = np.polyfit(y_test, predictions, 1)\n",
        "p = np.poly1d(z)\n",
        "plt.plot(y_test,p(y_test), color='magenta')\n",
        "plt.show()"
      ]
    },
    {
      "cell_type": "markdown",
      "metadata": {
        "id": "lp24pEUtOH7X"
      },
      "source": [
        "##### Exportar con joblib"
      ]
    },
    {
      "cell_type": "code",
      "execution_count": 36,
      "metadata": {
        "colab": {
          "base_uri": "https://localhost:8080/"
        },
        "id": "2QPm5JANNgGi",
        "outputId": "420bf103-7648-4e6c-df46-16c9b8252d62"
      },
      "outputs": [
        {
          "data": {
            "text/plain": [
              "['./bike-share-v4.pkl']"
            ]
          },
          "execution_count": 36,
          "metadata": {},
          "output_type": "execute_result"
        }
      ],
      "source": [
        "# Guardar modelo como archivo \".pkl\"\n",
        "filename = './bike-share-v4.pkl'\n",
        "joblib.dump(model, filename)"
      ]
    },
    {
      "cell_type": "markdown",
      "metadata": {
        "id": "Ra6qsNuyNe_F"
      },
      "source": [
        "# 3 - Exportar y Usar el Modelo\n",
        "---"
      ]
    },
    {
      "cell_type": "markdown",
      "metadata": {
        "id": "Auqchs1YOMNk"
      },
      "source": [
        "## Usar Modelo"
      ]
    },
    {
      "cell_type": "code",
      "execution_count": 37,
      "metadata": {
        "id": "2mdZG5kJYO45"
      },
      "outputs": [],
      "source": [
        "# Cargamos el modelo desde el archivo .pkl\n",
        "loaded_model = joblib.load('./bike-share-v4.pkl')"
      ]
    },
    {
      "cell_type": "markdown",
      "metadata": {
        "id": "G_LZqi93Oj-s"
      },
      "source": [
        "#### Ejemplo 01: Inferencia/Predicción de alquileres para 1 día:"
      ]
    },
    {
      "cell_type": "code",
      "execution_count": 40,
      "metadata": {
        "colab": {
          "base_uri": "https://localhost:8080/"
        },
        "id": "MVvHfCmhN0a4",
        "outputId": "8cdbdad9-b5ac-4682-87c5-5d457fe92246"
      },
      "outputs": [
        {
          "name": "stdout",
          "output_type": "stream",
          "text": [
            "New sample: [1.0, 1.0, 0.0, 3.0, 1.0, 1.0, 0.226957, 0.22927, 0.436957, 0.1869]\n",
            "Prediction: 113 rentals\n"
          ]
        }
      ],
      "source": [
        "# Creamos un array de numpy que contenga una nueva observación (por ejemplo, la información estacional y la previsión meteorológica de mañana)\n",
        "X_new = np.array([[1,1,0,3,1,1,0.226957,0.22927,0.436957,0.1869]]).astype('float64')\n",
        "print ('New sample: {}'.format(list(X_new[0])))\n",
        "\n",
        "# Utilizamos el modelo para predecir los alquileres de mañana\n",
        "result = loaded_model.predict(X_new)\n",
        "print('Prediction: {:.0f} rentals'.format(np.round(result[0])))"
      ]
    },
    {
      "cell_type": "markdown",
      "metadata": {
        "id": "-TwuJM02YHPP"
      },
      "source": [
        "#### Ejemplo 02: Inferencia/Predicción de alquileres para 5 días:"
      ]
    },
    {
      "cell_type": "code",
      "execution_count": 39,
      "metadata": {
        "colab": {
          "base_uri": "https://localhost:8080/"
        },
        "id": "td7DmI-QN4ms",
        "outputId": "338a74c6-5bc8-4136-9a8a-4ccee1f6d4f1"
      },
      "outputs": [
        {
          "name": "stdout",
          "output_type": "stream",
          "text": [
            "5-day rental predictions:\n",
            "631.0\n",
            "828.0\n",
            "263.0\n",
            "216.0\n",
            "300.0\n"
          ]
        }
      ],
      "source": [
        "# Creamos un array de funciones basadas en la previsión meteorológica para cinco días\n",
        "X_new = np.array([[0,1,1,0,0,1,0.344167,0.363625,0.805833,0.160446],\n",
        "                  [0,1,0,1,0,1,0.363478,0.353739,0.696087,0.248539],\n",
        "                  [0,1,0,2,0,1,0.196364,0.189405,0.437273,0.248309],\n",
        "                  [0,1,0,3,0,1,0.2,0.212122,0.590435,0.160296],\n",
        "                  [0,1,0,4,0,1,0.226957,0.22927,0.436957,0.1869]])\n",
        "\n",
        "# Utilizamos el modelo para predecir los alquileres de cada día\n",
        "results = loaded_model.predict(X_new)\n",
        "print('5-day rental predictions:')\n",
        "for prediction in results:\n",
        "    print(np.round(prediction))"
      ]
    }
  ],
  "metadata": {
    "colab": {
      "collapsed_sections": [
        "a8UmjSqg0HwK",
        "ly0RyVfhzGq4",
        "9DfYWraeJxVL",
        "Ra6qsNuyNe_F"
      ],
      "provenance": []
    },
    "gpuClass": "standard",
    "kernelspec": {
      "display_name": "Python 3",
      "language": "python",
      "name": "python3"
    },
    "language_info": {
      "name": "python",
      "version": "3.11.0"
    },
    "vscode": {
      "interpreter": {
        "hash": "5238573367df39f7286bb46f9ff5f08f63a01a80960060ce41e3c79b190280fa"
      }
    }
  },
  "nbformat": 4,
  "nbformat_minor": 0
}
